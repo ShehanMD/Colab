{
  "nbformat": 4,
  "nbformat_minor": 0,
  "metadata": {
    "colab": {
      "provenance": [],
      "authorship_tag": "ABX9TyO3gUEwX/iGrxuwuRpIisZw",
      "include_colab_link": true
    },
    "kernelspec": {
      "name": "python3",
      "display_name": "Python 3"
    },
    "language_info": {
      "name": "python"
    }
  },
  "cells": [
    {
      "cell_type": "markdown",
      "metadata": {
        "id": "view-in-github",
        "colab_type": "text"
      },
      "source": [
        "<a href=\"https://colab.research.google.com/github/ShehanMD/Colab/blob/main/training_model_1.ipynb\" target=\"_parent\"><img src=\"https://colab.research.google.com/assets/colab-badge.svg\" alt=\"Open In Colab\"/></a>"
      ]
    },
    {
      "cell_type": "code",
      "source": [
        "pip install scikit-learn"
      ],
      "metadata": {
        "colab": {
          "base_uri": "https://localhost:8080/"
        },
        "id": "w0d9Cnhu6msB",
        "outputId": "87a7a417-cb93-4f69-c666-a3d29de3826e"
      },
      "execution_count": 23,
      "outputs": [
        {
          "output_type": "stream",
          "name": "stdout",
          "text": [
            "Requirement already satisfied: scikit-learn in /usr/local/lib/python3.12/dist-packages (1.6.1)\n",
            "Requirement already satisfied: numpy>=1.19.5 in /usr/local/lib/python3.12/dist-packages (from scikit-learn) (2.0.2)\n",
            "Requirement already satisfied: scipy>=1.6.0 in /usr/local/lib/python3.12/dist-packages (from scikit-learn) (1.16.2)\n",
            "Requirement already satisfied: joblib>=1.2.0 in /usr/local/lib/python3.12/dist-packages (from scikit-learn) (1.5.2)\n",
            "Requirement already satisfied: threadpoolctl>=3.1.0 in /usr/local/lib/python3.12/dist-packages (from scikit-learn) (3.6.0)\n"
          ]
        }
      ]
    },
    {
      "cell_type": "code",
      "source": [
        "mkdir ml_project"
      ],
      "metadata": {
        "id": "R2Bx7jio7WIb",
        "colab": {
          "base_uri": "https://localhost:8080/"
        },
        "outputId": "b0b8d3f5-c146-4266-bc7f-63101a56f32a"
      },
      "execution_count": 24,
      "outputs": [
        {
          "output_type": "stream",
          "name": "stdout",
          "text": [
            "mkdir: cannot create directory ‘ml_project’: File exists\n"
          ]
        }
      ]
    },
    {
      "cell_type": "code",
      "source": [
        "from sklearn import datasets\n",
        "from sklearn.model_selection import train_test_split\n",
        "from sklearn.linear_model import LinearRegression\n",
        "from sklearn.metrics import r2_score\n",
        "from sklearn.preprocessing import PolynomialFeatures\n",
        "from sklearn.ensemble import HistGradientBoostingRegressor, RandomForestRegressor\n",
        "import joblib\n",
        "\n",
        "housing  = datasets.fetch_california_housing()\n",
        "print(housing.feature_names)\n",
        "\n",
        "x = housing.data\n",
        "y = housing.target\n",
        "\n",
        "\n",
        "\n",
        "poly = PolynomialFeatures()\n",
        "x = poly.fit_transform(x)\n",
        "\n",
        "x_train, x_test, y_train, y_test = train_test_split(\n",
        "    x,\n",
        "    y,\n",
        "    test_size = 0.2,\n",
        "    random_state  = 432\n",
        "    )\n",
        "\n",
        "\n",
        "\n",
        "model = HistGradientBoostingRegressor(\n",
        "    max_iter=350,\n",
        "    learning_rate=0.05\n",
        ")\n",
        "model.fit(x_train, y_train)\n",
        "\n",
        "joblib.dump(model, \"my_model.joblib\")\n",
        "\n",
        "y_pred = model.predict(x_test)\n",
        "r2 = r2_score(y_test, y_pred)\n",
        "print(r2)\n",
        "\n"
      ],
      "metadata": {
        "colab": {
          "base_uri": "https://localhost:8080/"
        },
        "id": "_YYW_6XF77zY",
        "outputId": "502f82bd-5fab-4c68-b239-107eceaceb65"
      },
      "execution_count": 22,
      "outputs": [
        {
          "output_type": "stream",
          "name": "stdout",
          "text": [
            "['MedInc', 'HouseAge', 'AveRooms', 'AveBedrms', 'Population', 'AveOccup', 'Latitude', 'Longitude']\n",
            "0.8424004735801531\n"
          ]
        }
      ]
    },
    {
      "cell_type": "markdown",
      "source": [
        "Using the trained Model:👇"
      ],
      "metadata": {
        "id": "RXYhOLL_J_wd"
      }
    },
    {
      "cell_type": "code",
      "source": [
        "local_model = joblib.load(\"my_model.joblib\")\n",
        "y_pred = model.predict(x_test)\n",
        "r2 = r2_score(y_test, y_pred)\n",
        "print(r2)"
      ],
      "metadata": {
        "colab": {
          "base_uri": "https://localhost:8080/"
        },
        "id": "Tb6hqY7pKKzx",
        "outputId": "89546476-aec4-4e31-a78f-bab19e848bb1"
      },
      "execution_count": 25,
      "outputs": [
        {
          "output_type": "stream",
          "name": "stdout",
          "text": [
            "0.8424004735801531\n"
          ]
        }
      ]
    }
  ]
}